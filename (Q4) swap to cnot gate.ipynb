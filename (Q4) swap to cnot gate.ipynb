{
 "cells": [
  {
   "cell_type": "code",
   "execution_count": 1,
   "id": "e14eeec2-480e-4d27-b81e-efb3363c90bd",
   "metadata": {},
   "outputs": [
    {
     "name": "stderr",
     "output_type": "stream",
     "text": [
      "<frozen importlib._bootstrap>:219: RuntimeWarning: scipy._lib.messagestream.MessageStream size changed, may indicate binary incompatibility. Expected 56 from C header, got 64 from PyObject\n"
     ]
    },
    {
     "data": {
      "image/png": "[encoded data removed]",
      "text/plain": [
       "<Figure size 146.652x144.48 with 1 Axes>"
      ]
     },
     "execution_count": 1,
     "metadata": {},
     "output_type": "execute_result"
    }
   ],
   "source": [
    "# Importing standard Qiskit Libraries\n",
    "\n",
    "from qiskit import QuantumCircuit, transpile, Aer, IBMQ\n",
    "from qiskit.tools.jupyter import *\n",
    "\n",
    "from qiskit.visualization import *\n",
    "\n",
    "from ibm_quantum_widgets import *\n",
    "\n",
    "from qiskit.providers.aer import QasmSimulator\n",
    "from qiskit.quantum_info import *\n",
    "\n",
    "from qiskit.visualization import plot_state_city\n",
    "# Loading your IBM Quantum account(s)\n",
    "\n",
    "import numpy as np\n",
    "\n",
    "provider = IBMQ.load_account()\n",
    "\n",
    "qc = QuantumCircuit(2)\n",
    "\n",
    "# swaps states of qubits a and b\n",
    "\n",
    "qc.swap(0,1)\n",
    "\n",
    "qc.draw()"
   ]
  },
  {
   "cell_type": "code",
   "execution_count": null,
   "id": "cd299d1b-11bd-4573-8eac-8699847badf5",
   "metadata": {},
   "outputs": [],
   "source": []
  }
 ],
 "metadata": {
  "kernelspec": {
   "display_name": "Python 3 (ipykernel)",
   "language": "python",
   "name": "python3"
  },
  "language_info": {
   "codemirror_mode": {
    "name": "ipython",
    "version": 3
   },
   "file_extension": ".py",
   "mimetype": "text/x-python",
   "name": "python",
   "nbconvert_exporter": "python",
   "pygments_lexer": "ipython3",
   "version": "3.8.13"
  },
  "widgets": {
   "application/vnd.jupyter.widget-state+json": {
    "state": {
     "034f64a4a1d146a380e70c89f171f1c9": {
      "model_module": "@jupyter-widgets/controls",
      "model_module_version": "1.5.0",
      "model_name": "DescriptionStyleModel",
      "state": {
       "description_width": ""
      }
     },
     "0c20c01aa8784abd8957386e31905aa1": {
      "model_module": "@jupyter-widgets/controls",
      "model_module_version": "1.5.0",
      "model_name": "ButtonStyleModel",
      "state": {}
     },
     "14dccb29554046c3b1df875d60d69095": {
      "model_module": "@jupyter-widgets/controls",
      "model_module_version": "1.5.0",
      "model_name": "HTMLModel",
      "state": {
       "layout": "IPY_MODEL_e7a57583e7084a99a1e12579671127b5",
       "style": "IPY_MODEL_5c3f59de6026411798e9601ae4ea6c28",
       "value": "<h5>Message</h5>"
      }
     },
     "2599c3eec67444deafc20455c0d471bf": {
      "model_module": "@jupyter-widgets/base",
      "model_module_version": "1.2.0",
      "model_name": "LayoutModel",
      "state": {
       "width": "70px"
      }
     },
     "28cdf49c379c424f85c1d50ceb6f4ff6": {
      "model_module": "@jupyter-widgets/controls",
      "model_module_version": "1.5.0",
      "model_name": "DescriptionStyleModel",
      "state": {
       "description_width": ""
      }
     },
     "294e9f99622b469e8912899a2e5bfd75": {
      "model_module": "@jupyter-widgets/controls",
      "model_module_version": "1.5.0",
      "model_name": "HTMLModel",
      "state": {
       "layout": "IPY_MODEL_4b733967ba1b4211a5f9e1c21133bf57",
       "style": "IPY_MODEL_28cdf49c379c424f85c1d50ceb6f4ff6",
       "value": "<h5>Backend</h5>"
      }
     },
     "48cf82b6764342feb64d8866a26c1fd4": {
      "model_module": "@jupyter-widgets/controls",
      "model_module_version": "1.5.0",
      "model_name": "HTMLModel",
      "state": {
       "layout": "IPY_MODEL_50d68f8910a94bd1ac76a904bf7a8cef",
       "style": "IPY_MODEL_686dfbd4d28a4081a978840f306246ef",
       "value": "<h5>Job ID</h5>"
      }
     },
     "4b733967ba1b4211a5f9e1c21133bf57": {
      "model_module": "@jupyter-widgets/base",
      "model_module_version": "1.2.0",
      "model_name": "LayoutModel",
      "state": {
       "width": "145px"
      }
     },
     "50d68f8910a94bd1ac76a904bf7a8cef": {
      "model_module": "@jupyter-widgets/base",
      "model_module_version": "1.2.0",
      "model_name": "LayoutModel",
      "state": {
       "width": "190px"
      }
     },
     "538f5c0ae3604ef9aee6dd530663d173": {
      "model_module": "@jupyter-widgets/base",
      "model_module_version": "1.2.0",
      "model_name": "LayoutModel",
      "state": {
       "width": "95px"
      }
     },
     "5392cc7d63d54bf59d79b5d72500b43e": {
      "model_module": "@jupyter-widgets/base",
      "model_module_version": "1.2.0",
      "model_name": "LayoutModel",
      "state": {
       "grid_template_areas": "\n                                       \". . . . right \"\n                                        ",
       "grid_template_columns": "20% 20% 20% 20% 20%",
       "width": "100%"
      }
     },
     "5c3f59de6026411798e9601ae4ea6c28": {
      "model_module": "@jupyter-widgets/controls",
      "model_module_version": "1.5.0",
      "model_name": "DescriptionStyleModel",
      "state": {
       "description_width": ""
      }
     },
     "67c6087511094475aeead1acc7c4f88f": {
      "model_module": "@jupyter-widgets/controls",
      "model_module_version": "1.5.0",
      "model_name": "DescriptionStyleModel",
      "state": {
       "description_width": ""
      }
     },
     "686dfbd4d28a4081a978840f306246ef": {
      "model_module": "@jupyter-widgets/controls",
      "model_module_version": "1.5.0",
      "model_name": "DescriptionStyleModel",
      "state": {
       "description_width": ""
      }
     },
     "6d7d8c6644af4440b7df970d5b999bcd": {
      "model_module": "@jupyter-widgets/controls",
      "model_module_version": "1.5.0",
      "model_name": "HTMLModel",
      "state": {
       "layout": "IPY_MODEL_538f5c0ae3604ef9aee6dd530663d173",
       "style": "IPY_MODEL_67c6087511094475aeead1acc7c4f88f",
       "value": "<h5>Status</h5>"
      }
     },
     "743f8a8d256d44d695740f87f3f7e023": {
      "model_module": "@jupyter-widgets/controls",
      "model_module_version": "1.5.0",
      "model_name": "GridBoxModel",
      "state": {
       "children": [
        "IPY_MODEL_c47f11b6d0584ee282315839c25448eb"
       ],
       "layout": "IPY_MODEL_5392cc7d63d54bf59d79b5d72500b43e"
      }
     },
     "747d014dd85d4766bc45e6966a97019d": {
      "model_module": "@jupyter-widgets/base",
      "model_module_version": "1.2.0",
      "model_name": "LayoutModel",
      "state": {
       "margin": "0px 0px 10px 0px"
      }
     },
     "7bad7a7fb81e4101aa1f484a22321fa6": {
      "model_module": "@jupyter-widgets/controls",
      "model_module_version": "1.5.0",
      "model_name": "HBoxModel",
      "state": {
       "children": [
        "IPY_MODEL_48cf82b6764342feb64d8866a26c1fd4",
        "IPY_MODEL_294e9f99622b469e8912899a2e5bfd75",
        "IPY_MODEL_6d7d8c6644af4440b7df970d5b999bcd",
        "IPY_MODEL_ca4aac8815a54a119c305c424ad1e689",
        "IPY_MODEL_14dccb29554046c3b1df875d60d69095"
       ],
       "layout": "IPY_MODEL_98b17c91c00c435388a53f9a47defa51"
      }
     },
     "83ae8fe9552d40b58f9f935bafac9461": {
      "model_module": "@jupyter-widgets/controls",
      "model_module_version": "1.5.0",
      "model_name": "HTMLModel",
      "state": {
       "layout": "IPY_MODEL_747d014dd85d4766bc45e6966a97019d",
       "style": "IPY_MODEL_d0915f97ff064b26a6eae1ae07562d43",
       "value": "<p style='font-family: IBM Plex Sans, Arial, Helvetica, sans-serif; font-size: 20px; font-weight: medium;'>Circuit Properties</p>"
      }
     },
     "98b17c91c00c435388a53f9a47defa51": {
      "model_module": "@jupyter-widgets/base",
      "model_module_version": "1.2.0",
      "model_name": "LayoutModel",
      "state": {
       "margin": "0px 0px 0px 37px",
       "width": "600px"
      }
     },
     "c47f11b6d0584ee282315839c25448eb": {
      "model_module": "@jupyter-widgets/controls",
      "model_module_version": "1.5.0",
      "model_name": "ButtonModel",
      "state": {
       "button_style": "primary",
       "description": "Clear",
       "layout": "IPY_MODEL_e12fcf1a640945eea9920aa51099fb37",
       "style": "IPY_MODEL_0c20c01aa8784abd8957386e31905aa1"
      }
     },
     "ca4aac8815a54a119c305c424ad1e689": {
      "model_module": "@jupyter-widgets/controls",
      "model_module_version": "1.5.0",
      "model_name": "HTMLModel",
      "state": {
       "layout": "IPY_MODEL_2599c3eec67444deafc20455c0d471bf",
       "style": "IPY_MODEL_034f64a4a1d146a380e70c89f171f1c9",
       "value": "<h5>Queue</h5>"
      }
     },
     "d0915f97ff064b26a6eae1ae07562d43": {
      "model_module": "@jupyter-widgets/controls",
      "model_module_version": "1.5.0",
      "model_name": "DescriptionStyleModel",
      "state": {
       "description_width": ""
      }
     },
     "e12fcf1a640945eea9920aa51099fb37": {
      "model_module": "@jupyter-widgets/base",
      "model_module_version": "1.2.0",
      "model_name": "LayoutModel",
      "state": {
       "grid_area": "right",
       "padding": "0px 0px 0px 0px",
       "width": "70px"
      }
     },
     "e7a57583e7084a99a1e12579671127b5": {
      "model_module": "@jupyter-widgets/base",
      "model_module_version": "1.2.0",
      "model_name": "LayoutModel",
      "state": {}
     }
    },
    "version_major": 2,
    "version_minor": 0
   }
  }
 },
 "nbformat": 4,
 "nbformat_minor": 5
}
