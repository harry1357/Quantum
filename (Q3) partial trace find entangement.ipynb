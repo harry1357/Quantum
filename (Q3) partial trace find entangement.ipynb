{
 "cells": [
  {
   "cell_type": "code",
   "execution_count": null,
   "id": "d394b835-3380-468e-81e6-fd77171dd6bf",
   "metadata": {},
   "outputs": [],
   "source": [
    "from qiskit import QuantumCircuit,QuantumRegister\n",
    "from qiskit.quantum_info \n",
    "import DensityMatrix,partial_trace\n",
    "import numpy as np\n",
    "\n",
    "qr=QuantumRegister(2)\n",
    "\n",
    "circ=QuantumCircuit (qr)\n",
    "\n",
    "circ. h(qr[0])\n",
    "\n",
    "circ.cx(qr[0],qr[1])\n",
    "DM=DensityMatrix.from_instruction(circ)\n",
    "print(DM.data)\n",
    "\n",
    "PT=partial_trace(DM,[0])\n",
    "\n",
    "print (PT.data)"
   ]
  },
  {
   "cell_type": "code",
   "execution_count": null,
   "id": "763c5c9e-82f3-46fc-802d-a65ba3c09e1c",
   "metadata": {},
   "outputs": [],
   "source": []
  }
 ],
 "metadata": {
  "kernelspec": {
   "display_name": "Python 3 (ipykernel)",
   "language": "python",
   "name": "python3"
  },
  "language_info": {
   "codemirror_mode": {
    "name": "ipython",
    "version": 3
   },
   "file_extension": ".py",
   "mimetype": "text/x-python",
   "name": "python",
   "nbconvert_exporter": "python",
   "pygments_lexer": "ipython3",
   "version": "3.8.13"
  },
  "widgets": {
   "application/vnd.jupyter.widget-state+json": {
    "state": {},
    "version_major": 2,
    "version_minor": 0
   }
  }
 },
 "nbformat": 4,
 "nbformat_minor": 5
}
