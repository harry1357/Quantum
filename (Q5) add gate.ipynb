{
 "cells": [
  {
   "cell_type": "code",
   "execution_count": 4,
   "id": "b9c8cb5c-4073-4deb-994c-fc17951c615f",
   "metadata": {},
   "outputs": [
    {
     "name": "stderr",
     "output_type": "stream",
     "text": [
      "ibmqfactory.load_account:WARNING:2022-12-02 11:11:54,675: Credentials are already in use. The existing account in the session will be replaced.\n"
     ]
    },
    {
     "data": {
      "image/png": "[encoded data removed]",
      "text/plain": [
       "<Figure size 447.797x325.08 with 1 Axes>"
      ]
     },
     "execution_count": 4,
     "metadata": {},
     "output_type": "execute_result"
    }
   ],
   "source": [
    "import numpy as np\n",
    "from qiskit import QuantumCircuit, transpile, Aer, IBMQ\n",
    "from qiskit.tools.jupyter import *\n",
    "\n",
    "from qiskit.visualization import *\n",
    "\n",
    "from ibm_quantum_widgets import *\n",
    "\n",
    "from qiskit.providers.aer import QasmSimulator\n",
    "provider = IBMQ.load_account()\n",
    "\n",
    "qc = QuantumCircuit (4,2)\n",
    "\n",
    "# encode inputs in qubits @ and 1\n",
    "\n",
    "qc.x(0)\n",
    "\n",
    "qc.x(1)\n",
    "\n",
    "# use cnots to write the XOR of the inputs on qubit 2\n",
    "qc.cx(0,2)\n",
    "\n",
    "qc.cx(1,2)\n",
    "\n",
    "# use ccx to write the AND of the inputs on qubit 3\n",
    "qc.ccx(0,1,3)# extract outputs\n",
    "\n",
    "qc.measure(2,0) # extract XOR value\n",
    "\n",
    "qc.measure(3,1) # extract AND value\n",
    "\n",
    "qc.draw(output='mpl')"
   ]
  },
  {
   "cell_type": "code",
   "execution_count": null,
   "id": "58fb9f0f-77a2-4174-ad19-77553daab2a0",
   "metadata": {},
   "outputs": [],
   "source": []
  }
 ],
 "metadata": {
  "kernelspec": {
   "display_name": "Python 3 (ipykernel)",
   "language": "python",
   "name": "python3"
  },
  "language_info": {
   "codemirror_mode": {
    "name": "ipython",
    "version": 3
   },
   "file_extension": ".py",
   "mimetype": "text/x-python",
   "name": "python",
   "nbconvert_exporter": "python",
   "pygments_lexer": "ipython3",
   "version": "3.8.13"
  },
  "widgets": {
   "application/vnd.jupyter.widget-state+json": {
    "state": {
     "064575559eec4cfa912f975a7cc9c04d": {
      "model_module": "@jupyter-widgets/controls",
      "model_module_version": "1.5.0",
      "model_name": "HTMLModel",
      "state": {
       "layout": "IPY_MODEL_98df2b086c3f43bebd45bffcc59e52f6",
       "style": "IPY_MODEL_a3fdcfd9215043fa8bc3a09d0b0bae95",
       "value": "<h5>Backend</h5>"
      }
     },
     "06d88517354644b48c7ba9e7344152cd": {
      "model_module": "@jupyter-widgets/controls",
      "model_module_version": "1.5.0",
      "model_name": "DescriptionStyleModel",
      "state": {
       "description_width": ""
      }
     },
     "07e9b9552f22438b8f7b06bd5e54093e": {
      "model_module": "@jupyter-widgets/base",
      "model_module_version": "1.2.0",
      "model_name": "LayoutModel",
      "state": {}
     },
     "0829e0d3ce6c4b59abf36ee2feee8169": {
      "model_module": "@jupyter-widgets/controls",
      "model_module_version": "1.5.0",
      "model_name": "GridBoxModel",
      "state": {
       "children": [
        "IPY_MODEL_2c73d9ec82cd4fc493eaa28c083af9a1"
       ],
       "layout": "IPY_MODEL_3ea6da8ae17c4de6943c47546939c975"
      }
     },
     "09c38c72754545c08cc507fb70e6fc2f": {
      "model_module": "@jupyter-widgets/controls",
      "model_module_version": "1.5.0",
      "model_name": "DescriptionStyleModel",
      "state": {
       "description_width": ""
      }
     },
     "2a68875244e04c1f81cd8e471d9cabaf": {
      "model_module": "@jupyter-widgets/base",
      "model_module_version": "1.2.0",
      "model_name": "LayoutModel",
      "state": {
       "margin": "0px 0px 0px 37px",
       "width": "600px"
      }
     },
     "2c73d9ec82cd4fc493eaa28c083af9a1": {
      "model_module": "@jupyter-widgets/controls",
      "model_module_version": "1.5.0",
      "model_name": "ButtonModel",
      "state": {
       "button_style": "primary",
       "description": "Clear",
       "layout": "IPY_MODEL_9b6e22d0840b4766b8afa39fd6bc3df4",
       "style": "IPY_MODEL_e95f7b9fcd984c049f0b248c35c7f8d8"
      }
     },
     "2f60c893882c440f823c8588fc182b36": {
      "model_module": "@jupyter-widgets/controls",
      "model_module_version": "1.5.0",
      "model_name": "HTMLModel",
      "state": {
       "layout": "IPY_MODEL_07e9b9552f22438b8f7b06bd5e54093e",
       "style": "IPY_MODEL_09c38c72754545c08cc507fb70e6fc2f",
       "value": "<h5>Message</h5>"
      }
     },
     "3b94f144108d4b158cd0b844dbbed8f5": {
      "model_module": "@jupyter-widgets/controls",
      "model_module_version": "1.5.0",
      "model_name": "HTMLModel",
      "state": {
       "layout": "IPY_MODEL_f27abe6d08ac47118f0b36d7e814a23d",
       "style": "IPY_MODEL_8e3e1253b582451ca4e13a323c98f462",
       "value": "<p style='font-family: IBM Plex Sans, Arial, Helvetica, sans-serif; font-size: 20px; font-weight: medium;'>Circuit Properties</p>"
      }
     },
     "3ea6da8ae17c4de6943c47546939c975": {
      "model_module": "@jupyter-widgets/base",
      "model_module_version": "1.2.0",
      "model_name": "LayoutModel",
      "state": {
       "grid_template_areas": "\n                                       \". . . . right \"\n                                        ",
       "grid_template_columns": "20% 20% 20% 20% 20%",
       "width": "100%"
      }
     },
     "6cae4af605fa4c9f9a64d9ed0974b930": {
      "model_module": "@jupyter-widgets/controls",
      "model_module_version": "1.5.0",
      "model_name": "DescriptionStyleModel",
      "state": {
       "description_width": ""
      }
     },
     "79de172c5c874f9482992d93c8871f72": {
      "model_module": "@jupyter-widgets/controls",
      "model_module_version": "1.5.0",
      "model_name": "HBoxModel",
      "state": {
       "children": [
        "IPY_MODEL_7edf733aca5444cebf0f55b8bb7fdf4d",
        "IPY_MODEL_064575559eec4cfa912f975a7cc9c04d",
        "IPY_MODEL_fff401db13234d3bad1a6088f5e1c45c",
        "IPY_MODEL_f974b3260c934d7383f25942d9349fb3",
        "IPY_MODEL_2f60c893882c440f823c8588fc182b36"
       ],
       "layout": "IPY_MODEL_2a68875244e04c1f81cd8e471d9cabaf"
      }
     },
     "7edf733aca5444cebf0f55b8bb7fdf4d": {
      "model_module": "@jupyter-widgets/controls",
      "model_module_version": "1.5.0",
      "model_name": "HTMLModel",
      "state": {
       "layout": "IPY_MODEL_bf5287297a244219b211f7382e3ad0af",
       "style": "IPY_MODEL_a145e26a66444d1ea7059d9929acff23",
       "value": "<h5>Job ID</h5>"
      }
     },
     "805d7c463cf24904bba2e32035a20229": {
      "model_module": "@jupyter-widgets/base",
      "model_module_version": "1.2.0",
      "model_name": "LayoutModel",
      "state": {
       "width": "70px"
      }
     },
     "8ba4a0c4a59c45acafffd49e6325526c": {
      "model_module": "@jupyter-widgets/base",
      "model_module_version": "1.2.0",
      "model_name": "LayoutModel",
      "state": {
       "width": "95px"
      }
     },
     "8e3e1253b582451ca4e13a323c98f462": {
      "model_module": "@jupyter-widgets/controls",
      "model_module_version": "1.5.0",
      "model_name": "DescriptionStyleModel",
      "state": {
       "description_width": ""
      }
     },
     "98df2b086c3f43bebd45bffcc59e52f6": {
      "model_module": "@jupyter-widgets/base",
      "model_module_version": "1.2.0",
      "model_name": "LayoutModel",
      "state": {
       "width": "145px"
      }
     },
     "9b6e22d0840b4766b8afa39fd6bc3df4": {
      "model_module": "@jupyter-widgets/base",
      "model_module_version": "1.2.0",
      "model_name": "LayoutModel",
      "state": {
       "grid_area": "right",
       "padding": "0px 0px 0px 0px",
       "width": "70px"
      }
     },
     "a145e26a66444d1ea7059d9929acff23": {
      "model_module": "@jupyter-widgets/controls",
      "model_module_version": "1.5.0",
      "model_name": "DescriptionStyleModel",
      "state": {
       "description_width": ""
      }
     },
     "a3fdcfd9215043fa8bc3a09d0b0bae95": {
      "model_module": "@jupyter-widgets/controls",
      "model_module_version": "1.5.0",
      "model_name": "DescriptionStyleModel",
      "state": {
       "description_width": ""
      }
     },
     "bf5287297a244219b211f7382e3ad0af": {
      "model_module": "@jupyter-widgets/base",
      "model_module_version": "1.2.0",
      "model_name": "LayoutModel",
      "state": {
       "width": "190px"
      }
     },
     "e95f7b9fcd984c049f0b248c35c7f8d8": {
      "model_module": "@jupyter-widgets/controls",
      "model_module_version": "1.5.0",
      "model_name": "ButtonStyleModel",
      "state": {}
     },
     "f27abe6d08ac47118f0b36d7e814a23d": {
      "model_module": "@jupyter-widgets/base",
      "model_module_version": "1.2.0",
      "model_name": "LayoutModel",
      "state": {
       "margin": "0px 0px 10px 0px"
      }
     },
     "f974b3260c934d7383f25942d9349fb3": {
      "model_module": "@jupyter-widgets/controls",
      "model_module_version": "1.5.0",
      "model_name": "HTMLModel",
      "state": {
       "layout": "IPY_MODEL_805d7c463cf24904bba2e32035a20229",
       "style": "IPY_MODEL_06d88517354644b48c7ba9e7344152cd",
       "value": "<h5>Queue</h5>"
      }
     },
     "fff401db13234d3bad1a6088f5e1c45c": {
      "model_module": "@jupyter-widgets/controls",
      "model_module_version": "1.5.0",
      "model_name": "HTMLModel",
      "state": {
       "layout": "IPY_MODEL_8ba4a0c4a59c45acafffd49e6325526c",
       "style": "IPY_MODEL_6cae4af605fa4c9f9a64d9ed0974b930",
       "value": "<h5>Status</h5>"
      }
     }
    },
    "version_major": 2,
    "version_minor": 0
   }
  }
 },
 "nbformat": 4,
 "nbformat_minor": 5
}
