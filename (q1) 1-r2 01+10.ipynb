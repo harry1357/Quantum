{
 "cells": [
  {
   "cell_type": "code",
   "execution_count": 14,
   "id": "dc99d3b6-0807-4577-b7c8-9a3c17e3ea0b",
   "metadata": {},
   "outputs": [
    {
     "name": "stderr",
     "output_type": "stream",
     "text": [
      "ibmqfactory.load_account:WARNING:2022-12-02 07:21:23,607: Credentials are already in use. The existing account in the session will be replaced.\n"
     ]
    },
    {
     "name": "stdout",
     "output_type": "stream",
     "text": [
      "{'10': 1024}\n"
     ]
    },
    {
     "data": {
      "image/png": "[encoded data removed]",
      "text/plain": [
       "<Figure size 504x360 with 1 Axes>"
      ]
     },
     "execution_count": 14,
     "metadata": {},
     "output_type": "execute_result"
    }
   ],
   "source": [
    "import numpy as np\n",
    "\n",
    "from qiskit import QuantumCircuit, transpile, Aer, IBMQ, execute\n",
    "from qiskit.tools.jupyter import *\n",
    "\n",
    "from qiskit.visualization import *\n",
    "\n",
    "from ibm_quantum_widgets import *\n",
    "\n",
    "from qiskit.providers.aer import QasmSimulator\n",
    "\n",
    "provider = IBMQ.load_account()\n",
    "\n",
    "qc = QuantumCircuit(4,2)\n",
    "qc.x(0)\n",
    "\n",
    "qc.x(1)\n",
    "\n",
    "qc.cx(0,2)\n",
    "\n",
    "qc.cx(1,2)\n",
    "\n",
    "qc.ccx(0,1,3)\n",
    "\n",
    "qc.measure(2,0)\n",
    "\n",
    "qc.measure(3,1)\n",
    "\n",
    "qc. draw(output='mpl')\n",
    "\n",
    "backend=Aer. get_backend('qasm_simulator')\n",
    "result=execute(qc, backend=backend , shots=1024) .result()\n",
    "counts=result.get_counts(qc)\n",
    "\n",
    "print(counts)\n",
    "\n",
    "plot_histogram(counts)\n"
   ]
  },
  {
   "cell_type": "code",
   "execution_count": null,
   "id": "37e4bdf4-e6f2-45f3-9ec0-b02fca5166d2",
   "metadata": {},
   "outputs": [],
   "source": []
  }
 ],
 "metadata": {
  "kernelspec": {
   "display_name": "Python 3 (ipykernel)",
   "language": "python",
   "name": "python3"
  },
  "language_info": {
   "codemirror_mode": {
    "name": "ipython",
    "version": 3
   },
   "file_extension": ".py",
   "mimetype": "text/x-python",
   "name": "python",
   "nbconvert_exporter": "python",
   "pygments_lexer": "ipython3",
   "version": "3.8.13"
  },
  "widgets": {
   "application/vnd.jupyter.widget-state+json": {
    "state": {
     "0cb467d627714e5dbc4c454a5291d767": {
      "model_module": "@jupyter-widgets/controls",
      "model_module_version": "1.5.0",
      "model_name": "DescriptionStyleModel",
      "state": {
       "description_width": ""
      }
     },
     "0e97d2b8cb71445cb4645a5a34f668c1": {
      "model_module": "@jupyter-widgets/controls",
      "model_module_version": "1.5.0",
      "model_name": "ButtonStyleModel",
      "state": {}
     },
     "0fb02330179040838f0491f038d5fd87": {
      "model_module": "@jupyter-widgets/controls",
      "model_module_version": "1.5.0",
      "model_name": "HTMLModel",
      "state": {
       "layout": "IPY_MODEL_6e1d20eca666401288880a2e039dba99",
       "style": "IPY_MODEL_bb4f9d0e83f0460bab8d5a46ef968bb4",
       "value": "<h5>Status</h5>"
      }
     },
     "11d46547ad1744d6827af5855cdb23ae": {
      "model_module": "@jupyter-widgets/base",
      "model_module_version": "1.2.0",
      "model_name": "LayoutModel",
      "state": {
       "grid_area": "right",
       "padding": "0px 0px 0px 0px",
       "width": "70px"
      }
     },
     "27c3cf8c4dc74aca9220e52773d74690": {
      "model_module": "@jupyter-widgets/controls",
      "model_module_version": "1.5.0",
      "model_name": "DescriptionStyleModel",
      "state": {
       "description_width": ""
      }
     },
     "4dba0c6da21340fcb1a51d987d1b05ed": {
      "model_module": "@jupyter-widgets/controls",
      "model_module_version": "1.5.0",
      "model_name": "DescriptionStyleModel",
      "state": {
       "description_width": ""
      }
     },
     "577d415d531846b0940576c79a94ba72": {
      "model_module": "@jupyter-widgets/base",
      "model_module_version": "1.2.0",
      "model_name": "LayoutModel",
      "state": {
       "width": "70px"
      }
     },
     "5e0099262e8a42b5842427d1a7a3d07a": {
      "model_module": "@jupyter-widgets/base",
      "model_module_version": "1.2.0",
      "model_name": "LayoutModel",
      "state": {
       "grid_template_areas": "\n                                       \". . . . right \"\n                                        ",
       "grid_template_columns": "20% 20% 20% 20% 20%",
       "width": "100%"
      }
     },
     "6e1d20eca666401288880a2e039dba99": {
      "model_module": "@jupyter-widgets/base",
      "model_module_version": "1.2.0",
      "model_name": "LayoutModel",
      "state": {
       "width": "95px"
      }
     },
     "9a5f14130f434209a06ae3e76ea5adc7": {
      "model_module": "@jupyter-widgets/base",
      "model_module_version": "1.2.0",
      "model_name": "LayoutModel",
      "state": {
       "width": "190px"
      }
     },
     "af9f4720feca4b28902a5023493c433c": {
      "model_module": "@jupyter-widgets/controls",
      "model_module_version": "1.5.0",
      "model_name": "HTMLModel",
      "state": {
       "layout": "IPY_MODEL_f2eef95259734a179176c7f6c278f24d",
       "style": "IPY_MODEL_b8a87ae7c8f546fd95a1521fd8bffd8c",
       "value": "<h5>Message</h5>"
      }
     },
     "b0be36ab546f4032abefa5607f9fddae": {
      "model_module": "@jupyter-widgets/base",
      "model_module_version": "1.2.0",
      "model_name": "LayoutModel",
      "state": {
       "width": "145px"
      }
     },
     "b2808385e1684a0ea743d3be742bc53d": {
      "model_module": "@jupyter-widgets/controls",
      "model_module_version": "1.5.0",
      "model_name": "HTMLModel",
      "state": {
       "layout": "IPY_MODEL_e3abe187a7e348a5b4dbfe03025796eb",
       "style": "IPY_MODEL_d3ee2e49a8634d1dad36d4d6f6413515",
       "value": "<p style='font-family: IBM Plex Sans, Arial, Helvetica, sans-serif; font-size: 20px; font-weight: medium;'>Circuit Properties</p>"
      }
     },
     "b8a87ae7c8f546fd95a1521fd8bffd8c": {
      "model_module": "@jupyter-widgets/controls",
      "model_module_version": "1.5.0",
      "model_name": "DescriptionStyleModel",
      "state": {
       "description_width": ""
      }
     },
     "bb4f9d0e83f0460bab8d5a46ef968bb4": {
      "model_module": "@jupyter-widgets/controls",
      "model_module_version": "1.5.0",
      "model_name": "DescriptionStyleModel",
      "state": {
       "description_width": ""
      }
     },
     "be20b273ba5e4a2ca2f8074c8fabf19c": {
      "model_module": "@jupyter-widgets/controls",
      "model_module_version": "1.5.0",
      "model_name": "HTMLModel",
      "state": {
       "layout": "IPY_MODEL_577d415d531846b0940576c79a94ba72",
       "style": "IPY_MODEL_4dba0c6da21340fcb1a51d987d1b05ed",
       "value": "<h5>Queue</h5>"
      }
     },
     "c67499703d3147488d14de24ca7f06e2": {
      "model_module": "@jupyter-widgets/base",
      "model_module_version": "1.2.0",
      "model_name": "LayoutModel",
      "state": {
       "margin": "0px 0px 0px 37px",
       "width": "600px"
      }
     },
     "d3ee2e49a8634d1dad36d4d6f6413515": {
      "model_module": "@jupyter-widgets/controls",
      "model_module_version": "1.5.0",
      "model_name": "DescriptionStyleModel",
      "state": {
       "description_width": ""
      }
     },
     "de74007dc15a4108be71cc84a1c08233": {
      "model_module": "@jupyter-widgets/controls",
      "model_module_version": "1.5.0",
      "model_name": "ButtonModel",
      "state": {
       "button_style": "primary",
       "description": "Clear",
       "layout": "IPY_MODEL_11d46547ad1744d6827af5855cdb23ae",
       "style": "IPY_MODEL_0e97d2b8cb71445cb4645a5a34f668c1"
      }
     },
     "e3abe187a7e348a5b4dbfe03025796eb": {
      "model_module": "@jupyter-widgets/base",
      "model_module_version": "1.2.0",
      "model_name": "LayoutModel",
      "state": {
       "margin": "0px 0px 10px 0px"
      }
     },
     "e4c597ba7e8448968e09522c5c68e40c": {
      "model_module": "@jupyter-widgets/controls",
      "model_module_version": "1.5.0",
      "model_name": "HBoxModel",
      "state": {
       "children": [
        "IPY_MODEL_fe47a895b3f342b5a985fe6e6930d8ed",
        "IPY_MODEL_e66dd75701d542fd8f3e2181a895ef29",
        "IPY_MODEL_0fb02330179040838f0491f038d5fd87",
        "IPY_MODEL_be20b273ba5e4a2ca2f8074c8fabf19c",
        "IPY_MODEL_af9f4720feca4b28902a5023493c433c"
       ],
       "layout": "IPY_MODEL_c67499703d3147488d14de24ca7f06e2"
      }
     },
     "e66dd75701d542fd8f3e2181a895ef29": {
      "model_module": "@jupyter-widgets/controls",
      "model_module_version": "1.5.0",
      "model_name": "HTMLModel",
      "state": {
       "layout": "IPY_MODEL_b0be36ab546f4032abefa5607f9fddae",
       "style": "IPY_MODEL_0cb467d627714e5dbc4c454a5291d767",
       "value": "<h5>Backend</h5>"
      }
     },
     "f2eef95259734a179176c7f6c278f24d": {
      "model_module": "@jupyter-widgets/base",
      "model_module_version": "1.2.0",
      "model_name": "LayoutModel",
      "state": {}
     },
     "f7ddd4f1f7f140bd93c594bde360d2e6": {
      "model_module": "@jupyter-widgets/controls",
      "model_module_version": "1.5.0",
      "model_name": "GridBoxModel",
      "state": {
       "children": [
        "IPY_MODEL_de74007dc15a4108be71cc84a1c08233"
       ],
       "layout": "IPY_MODEL_5e0099262e8a42b5842427d1a7a3d07a"
      }
     },
     "fe47a895b3f342b5a985fe6e6930d8ed": {
      "model_module": "@jupyter-widgets/controls",
      "model_module_version": "1.5.0",
      "model_name": "HTMLModel",
      "state": {
       "layout": "IPY_MODEL_9a5f14130f434209a06ae3e76ea5adc7",
       "style": "IPY_MODEL_27c3cf8c4dc74aca9220e52773d74690",
       "value": "<h5>Job ID</h5>"
      }
     }
    },
    "version_major": 2,
    "version_minor": 0
   }
  }
 },
 "nbformat": 4,
 "nbformat_minor": 5
}
